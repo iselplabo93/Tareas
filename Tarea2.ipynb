{
 "cells": [
  {
   "cell_type": "markdown",
   "metadata": {},
   "source": [
    "### 1.- \n",
    "Realice un programa que encuentre todas las ra ́ıces de una función en un intervalo cerrado bajo la\n",
    "suposición de que la función realiza oscilaciones y entre cada oscilación hay al menos una raíz. Ponga\n",
    "en práctica esta función y encuentre todas las raíces de la siguiente función $y(x)=cos(x)+\\frac{6}{5}sin(x^2)$ en el intervalo $(0, 2\\pi)$."
   ]
  },
  {
   "cell_type": "code",
   "execution_count": null,
   "metadata": {
    "collapsed": true
   },
   "outputs": [],
   "source": []
  }
 ],
 "metadata": {
  "anaconda-cloud": {},
  "kernelspec": {
   "display_name": "Python [Root]",
   "language": "python",
   "name": "Python [Root]"
  },
  "language_info": {
   "codemirror_mode": {
    "name": "ipython",
    "version": 2
   },
   "file_extension": ".py",
   "mimetype": "text/x-python",
   "name": "python",
   "nbconvert_exporter": "python",
   "pygments_lexer": "ipython2",
   "version": "2.7.12"
  }
 },
 "nbformat": 4,
 "nbformat_minor": 0
}
