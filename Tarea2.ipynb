{
 "cells": [
  {
   "cell_type": "markdown",
   "metadata": {},
   "source": [
    "### 1.- \n",
    "Realice un programa que encuentre todas las raíces de una función en un intervalo cerrado bajo la\n",
    "suposición de que la función realiza oscilaciones y entre cada oscilación hay al menos una raíz. Ponga\n",
    "en práctica esta función y encuentre todas las raíces de la siguiente función $y(x)=cos(x)+\\frac{6}{5}sin(x^2)$ en el intervalo $(0, 2\\pi)$."
   ]
  },
  {
   "cell_type": "code",
   "execution_count": 20,
   "metadata": {
    "collapsed": false
   },
   "outputs": [],
   "source": [
    "from pylab import *\n",
    "%matplotlib inline"
   ]
  },
  {
   "cell_type": "code",
   "execution_count": 21,
   "metadata": {
    "collapsed": false
   },
   "outputs": [],
   "source": [
    "def raiz_bip(func,x_i,x_d,err=1e-5): \n",
    "    raiz=0.5*(x_i+x_d) #punto medio\n",
    "    y_i,y_d=func(x_i),func(x_d)\n",
    "    while abs(raiz-x_d)>=err and abs(y_i-y_d)>=err : #error sobre el eje x, abs(raiz-x_d)=>=err  encuentra el cero del error\n",
    "        y_m=func(raiz)\n",
    "        if y_m==0:\n",
    "            print \"raiz exacta\"\n",
    "            break\n",
    "        if y_m*y_i<0:\n",
    "            x_d=raiz\n",
    "        else:\n",
    "            x_i=raiz\n",
    "        raiz=0.5*(x_i+x_d)\n",
    "        y_i,y_d=func(x_i),func(x_d)\n",
    "    return raiz"
   ]
  },
  {
   "cell_type": "code",
   "execution_count": 22,
   "metadata": {
    "collapsed": false
   },
   "outputs": [],
   "source": [
    "def f(x):\n",
    "    return cos(x)+(6/5)*sin(x**2)\n",
    "def df(x):\n",
    "    return -sin(x)+(6/5)*2*x*cos(x**2)"
   ]
  },
  {
   "cell_type": "code",
   "execution_count": 27,
   "metadata": {
    "collapsed": false
   },
   "outputs": [],
   "source": [
    "def raiz_osc(funcion,x_i,x_d,fmin=1e-4):\n",
    "    x_ini,x_fin=x_i,x_i+fmin\n",
    "    n=0\n",
    "    i=0\n",
    "    while (x_fin<x_d):\n",
    "        y_i,y_d =funcion(x_ini),funcion(x_fin)\n",
    "        p=y_i*y_d\n",
    "        while (p>0):\n",
    "            x_fin=x_fin+fmin\n",
    "            if (x_fin>x_d):\n",
    "                i=1\n",
    "                break\n",
    "            y_i,y_d=funcion(x_ini),funcion(x_fin)\n",
    "            p=y_i*y_d\n",
    "        if i==1 and n>0:\n",
    "            break\n",
    "        if i==1:    \n",
    "            print  \"no hay raiz\"\n",
    "            #break\n",
    "        else :    \n",
    "            raiz=raiz_bip(funcion,x_ini,x_fin)\n",
    "            n+=1\n",
    "            x_ini=x_fin\n",
    "            x_fin=x_fin+fmin\n",
    "            print n, raiz\n",
    "        \n",
    "    return raiz"
   ]
  },
  {
   "cell_type": "code",
   "execution_count": 28,
   "metadata": {
    "collapsed": false
   },
   "outputs": [
    {
     "name": "stdout",
     "output_type": "stream",
     "text": [
      "La raíz es: 1 1.72763892899\n",
      "2 2.72764659424\n",
      "3 2.85344625244\n",
      "4 3.68673006668\n",
      "5 3.85344403992\n",
      "3.85344403992\n"
     ]
    }
   ],
   "source": [
    "print \"La raíz es:\", raiz_osc(f,1,4)"
   ]
  },
  {
   "cell_type": "code",
   "execution_count": 29,
   "metadata": {
    "collapsed": false
   },
   "outputs": [
    {
     "data": {
      "image/png": "[encoded data removed]",
      "text/plain": [
       "<matplotlib.figure.Figure at 0x10f0f57d0>"
      ]
     },
     "metadata": {},
     "output_type": "display_data"
    }
   ],
   "source": [
    "x=linspace(1,4)\n",
    "plot(x,f(x))\n",
    "plot([1.72764202279],[0],'o')\n",
    "plot([2.72764202331],[0],'o')\n",
    "plot([2.85344215089],[0],'o')\n",
    "plot([3.68673613866],[0],'o')\n",
    "plot([3.85344215455],[0],'o')\n",
    "grid(True)\n",
    "show()"
   ]
  },
  {
   "cell_type": "code",
   "execution_count": 30,
   "metadata": {
    "collapsed": false
   },
   "outputs": [
    {
     "name": "stdout",
     "output_type": "stream",
     "text": [
      "1 1.72764068413\n",
      "2 2.72764659424\n",
      "3 2.85344625244\n",
      "4 3.68673006668\n",
      "5 3.85344403992\n",
      "6 4.3797437851\n",
      "7 4.68673441773\n",
      "8 4.98589956055\n",
      "9 5.3797459198\n",
      "10 5.53143518677\n",
      "11 5.9858959732\n",
      "12 6.03157216797\n"
     ]
    },
    {
     "data": {
      "text/plain": [
       "6.031572167968031"
      ]
     },
     "execution_count": 30,
     "metadata": {},
     "output_type": "execute_result"
    }
   ],
   "source": [
    "raiz_osc(f,0,2*pi)\n"
   ]
  },
  {
   "cell_type": "code",
   "execution_count": 31,
   "metadata": {
    "collapsed": false
   },
   "outputs": [
    {
     "data": {
      "image/png": "[encoded data removed]",
      "text/plain": [
       "<matplotlib.figure.Figure at 0x10a859110>"
      ]
     },
     "metadata": {},
     "output_type": "display_data"
    }
   ],
   "source": [
    "x=linspace(0,2*pi)\n",
    "plot(x,f(x))\n",
    "plot([1.72764202279],[0],'o')\n",
    "plot([2.72764202331],[0],'o')\n",
    "plot([2.85344215089],[0],'o')\n",
    "plot([3.68673613866],[0],'o')\n",
    "plot([3.85344215455],[0],'o')\n",
    "plot([4.37974844549],[0],'o')\n",
    "plot([4.68673614923],[0],'o')\n",
    "plot([4.9859028609],[0],'o')\n",
    "plot([5.37974844674],[0],'o')\n",
    "plot([5.53144389932],[0],'o')\n",
    "plot([5.98590286261],[0],'o')\n",
    "plot([6.03157720845],[0],'o')\n",
    "grid(True)\n",
    "show()"
   ]
  },
  {
   "cell_type": "code",
   "execution_count": 13,
   "metadata": {
    "collapsed": false
   },
   "outputs": [
    {
     "data": {
      "image/png": "[encoded data removed]",
      "text/plain": [
       "<matplotlib.figure.Figure at 0x10f066a90>"
      ]
     },
     "metadata": {},
     "output_type": "display_data"
    }
   ],
   "source": [
    "plot(x,f(x))\n",
    "plot([1.72764202279],[0],'o')\n",
    "plot([2.72764202331],[0],'o')\n",
    "plot([2.85344215089],[0],'o')\n",
    "plot([3.68673613866],[0],'o')\n",
    "plot([3.85344215455],[0],'o')\n",
    "plot([4.37974844549],[0],'o')\n",
    "plot([4.68673614923],[0],'o')\n",
    "plot([4.9859028609],[0],'o')\n",
    "plot([5.37974844674],[0],'o')\n",
    "plot([5.53144389932],[0],'o')\n",
    "plot([5.98590286261],[0],'o')\n",
    "plot([6.03157720845],[0],'o')\n",
    "xlim([1.5,6.3]),ylim([-.05,.05])\n",
    "grid(True)\n",
    "show()"
   ]
  },
  {
   "cell_type": "code",
   "execution_count": null,
   "metadata": {
    "collapsed": true
   },
   "outputs": [],
   "source": []
  }
 ],
 "metadata": {
  "anaconda-cloud": {},
  "kernelspec": {
   "display_name": "Python [Root]",
   "language": "python",
   "name": "Python [Root]"
  },
  "language_info": {
   "codemirror_mode": {
    "name": "ipython",
    "version": 2
   },
   "file_extension": ".py",
   "mimetype": "text/x-python",
   "name": "python",
   "nbconvert_exporter": "python",
   "pygments_lexer": "ipython2",
   "version": "2.7.12"
  }
 },
 "nbformat": 4,
 "nbformat_minor": 0
}
