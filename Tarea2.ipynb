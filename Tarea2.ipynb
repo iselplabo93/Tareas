{
 "cells": [
  {
   "cell_type": "markdown",
   "metadata": {},
   "source": [
    "### 1.- \n",
    "Realice un programa que encuentre todas las raíces de una función en un intervalo cerrado bajo la\n",
    "suposición de que la función realiza oscilaciones y entre cada oscilación hay al menos una raíz. Ponga\n",
    "en práctica esta función y encuentre todas las raíces de la siguiente función $y(x)=cos(x)+\\frac{6}{5}sin(x^2)$ en el intervalo $(0, 2\\pi)$."
   ]
  },
  {
   "cell_type": "code",
   "execution_count": null,
   "metadata": {
    "collapsed": false
   },
   "outputs": [],
   "source": [
    "from pylab import *\n",
    "#import math\n",
    "%matplotlib inline"
   ]
  },
  {
   "cell_type": "code",
   "execution_count": null,
   "metadata": {
    "collapsed": false
   },
   "outputs": [],
   "source": [
    "def raiz_bip(func,x_i,x_d,err=1e-5): \n",
    "    raiz=0.5*(x_i+x_d) #punto medio\n",
    "    y_i,y_d=func(x_i),func(x_d)\n",
    "    while abs(raiz-x_d)>=err and abs(y_i-y_d)>=err : #error sobre el eje x, abs(raiz-x_d)=>=err  encuentra el cero del error\n",
    "        y_m=func(raiz)\n",
    "        if y_m==0:\n",
    "            print \"raiz exacta\"\n",
    "            break\n",
    "        if y_m*y_i<0:\n",
    "            x_d=raiz\n",
    "        else:\n",
    "            x_i=raiz\n",
    "        raiz=0.5*(x_i+x_d)\n",
    "        y_i,y_d=func(x_i),func(x_d)\n",
    "    return raiz"
   ]
  },
  {
   "cell_type": "code",
   "execution_count": null,
   "metadata": {
    "collapsed": false
   },
   "outputs": [],
   "source": [
    "def raiz_osc(func,x_i,x_d,err=1e-5):\n",
    "    x_ini,x_fin=x_i,x_i+err\n",
    "    n=0\n",
    "    i=0\n",
    "    while (x_fin<x_d):\n",
    "        y_i,y_d =func(x_ini),func(x_fin)\n",
    "        prod=y_i*y_d\n",
    "        while (prod>0):\n",
    "            x_fin=x_fin+err\n",
    "            if (x_fin>x_d):\n",
    "                i=1\n",
    "                break\n",
    "            y_i,y_d=func(x_ini),func(x_fin)\n",
    "            prod=y_i*y_d\n",
    "        if i==1 and n>0:\n",
    "            break\n",
    "        if i==1:    \n",
    "            print  \"Sin raíz\"\n",
    "        else :    \n",
    "            raiz=raiz_bip(func,x_ini,x_fin)\n",
    "            n+=1\n",
    "            x_ini=x_fin\n",
    "            x_fin=x_fin+err\n",
    "            print n, \"La raiz es\",raiz\n",
    "    return raiz"
   ]
  },
  {
   "cell_type": "code",
   "execution_count": null,
   "metadata": {
    "collapsed": false
   },
   "outputs": [],
   "source": [
    "#Se define la función\n",
    "def y(x):\n",
    "    return cos(x)+(6/5)*sin(x**2)"
   ]
  },
  {
   "cell_type": "code",
   "execution_count": null,
   "metadata": {
    "collapsed": false
   },
   "outputs": [],
   "source": [
    "raiz_osc(y,0,2*pi)# Las raíces de la funcion en 0 2pi son:"
   ]
  },
  {
   "cell_type": "code",
   "execution_count": null,
   "metadata": {
    "collapsed": false
   },
   "outputs": [],
   "source": [
    "x=linspace(0,2*pi)\n",
    "plot(x,y(x),color='k',linestyle='-.')\n",
    "plot([1.72764340954],[0],'D')\n",
    "plot([2.72764237061],[0],'D')\n",
    "plot([2.85344232179],[0],'D')\n",
    "plot([3.68673364252],[0],'D')\n",
    "plot([3.85344491243],[0],'D')\n",
    "plot([4.3797419693],[0],'D')\n",
    "plot([4.6867306314],[0],'D')\n",
    "plot([4.98590087004],[0],'D')\n",
    "plot([5.37974399044],[0],'D')\n",
    "plot([5.53144074093],[0],'D')\n",
    "plot([5.98590306543],[0],'D')\n",
    "plot([6.03157442499],[0],'D')\n",
    "grid(True)\n",
    "show()"
   ]
  },
  {
   "cell_type": "code",
   "execution_count": null,
   "metadata": {
    "collapsed": false
   },
   "outputs": [],
   "source": [
    "plot(x,y(x),color='k')\n",
    "plot([1.72764340954],[0],'D')\n",
    "plot([2.72764237061],[0],'D')\n",
    "plot([2.85344232179],[0],'D')\n",
    "plot([3.68673364252],[0],'D')\n",
    "plot([3.85344491243],[0],'D')\n",
    "plot([4.3797419693],[0],'D')\n",
    "plot([4.6867306314],[0],'D')\n",
    "plot([4.98590087004],[0],'D')\n",
    "plot([5.37974399044],[0],'D')\n",
    "plot([5.53144074093],[0],'D')\n",
    "plot([5.98590306543],[0],'D')\n",
    "plot([6.03157442499],[0],'D')\n",
    "xlim([1,6.5]),ylim([-.05,.05])\n",
    "grid(True)\n",
    "show()"
   ]
  },
  {
   "cell_type": "markdown",
   "metadata": {
    "collapsed": true
   },
   "source": [
    "### 2.-\n",
    "Se tiene la siguiente función:\n",
    "\n",
    "$$f(x,y)=2e^{-(x+1)^2}\\left(e^{-(y+2)^2} + e^{-(y-2)^2}\\right) + 6x(x^2 + y^2)e^{-(x^2+y^2} -1$$\n",
    "\n",
    "Encuentre los puntos ($\\hat{x},\\hat{y}$) tales que $f(\\hat{x},\\hat{y}) = 0$ y dibuje estos puntos en el plano $xy$."
   ]
  },
  {
   "cell_type": "code",
   "execution_count": null,
   "metadata": {
    "collapsed": true
   },
   "outputs": [],
   "source": [
    "def f(x): #x=(x[0]=x,x[1]=y)\n",
    "    return (2*exp(-(x[0]+1)**2))*(exp(-(x[1]+2)**2)+exp(-(x[1]-2)**2))+6*x[0]*(x[0]**2+x[1]**2)*exp(-(x[0]**2+x[1]**2))-1"
   ]
  },
  {
   "cell_type": "code",
   "execution_count": null,
   "metadata": {
    "collapsed": true
   },
   "outputs": [],
   "source": [
    "def raiz_f(func,x_i,x_d,err=1e-5):\n",
    "    x_i,x_d=array(x_i),array(x_d)\n",
    "    raiz=0.5*(x_i+x_d)\n",
    "    func_i,func_d=func(x_i),func(x_d)\n",
    "    while abs(func_i-func_d)>=err:\n",
    "        p_m=func(raiz)\n",
    "        if p_m==0:\n",
    "            break\n",
    "        if func_i*p_m<0:\n",
    "            x_d=raiz\n",
    "        else:\n",
    "            x_i=raiz\n",
    "        raiz=0.5*(x_i+x_d)\n",
    "        func_i,func_d=func(x_i),func(x_d)\n",
    "    return array(raiz)"
   ]
  },
  {
   "cell_type": "code",
   "execution_count": null,
   "metadata": {
    "collapsed": true
   },
   "outputs": [],
   "source": [
    "def raiz_vec(func,xy_id,err=1e-3):\n",
    "    x=arange(xy_id[0],xy_id[1]+err,err)\n",
    "    y=arange(xy_id[2],xy_id[3]+err,err)\n",
    "    x_raiz=[]\n",
    "    y_raiz=[]\n",
    "    for n in xrange(len(x)-1):\n",
    "        for m in xrange(len(y)-1):\n",
    "            x_i=[x[m],y[n]]\n",
    "            x_d=[x[m],y[n+1]]\n",
    "            func_i,func_d=func(x_i),func(x_d)\n",
    "            if func_i*func_d<=0:\n",
    "                raiz=raiz_f(func,x_i,x_d)\n",
    "                x_raiz.append(raiz[0])\n",
    "                y_raiz.append(raiz[1])\n",
    "    return array([x_raiz,y_raiz])"
   ]
  },
  {
   "cell_type": "code",
   "execution_count": null,
   "metadata": {
    "collapsed": false
   },
   "outputs": [],
   "source": [
    "x_raiz,y_raiz=raiz_vec(f,[-4,4,-4,4],1e-2)\n",
    "xlim([-4,4]), ylim([-4,4])\n",
    "plot(x_raiz,y_raiz,'.',color='c',label='h=1e-2')\n",
    "grid(True)\n",
    "legend()\n",
    "show()"
   ]
  },
  {
   "cell_type": "markdown",
   "metadata": {},
   "source": [
    "### 3.-\n",
    "Se tiene una pelota de masa $m$ sobre un plano inclinado a un ángulo $\\alpha = 15º, 30º y 45º$.\n",
    "\n",
    "### (a) \n",
    "Dibuje la trayectoria de la pelota si es lanzada desde el plano inclinado con una velocidad $v_{0x},v_{0y}>0$ considerando que hay fricción con el aire proporcional a la velocidad.\n",
    "\n",
    "### (b)\n",
    "Realice la misma simulación si ahora la fricción es proporcional al cuadrado de la velocidad.\n",
    "\n",
    "### (c) \n",
    "¿Qué sucede si ahora la pelota es lanzada con velocidad inicial $v_{0x}<0$ tal que $tan^{−1} \\left(􏰀\\frac{v_{0y}}{v_{0x}}\\right) >\\alpha$.\n",
    "\n",
    "Realice las gráficas que representen las simulaciones. Puede suponer que $m = 1$ y valores adecuados para los coeficientes de fricción.\n"
   ]
  },
  {
   "cell_type": "code",
   "execution_count": null,
   "metadata": {
    "collapsed": true
   },
   "outputs": [],
   "source": [
    "def rk4(ec,p_ini,x,args=0,h=0.01): #Runge Kutta de cuarto orden\n",
    "    if (x[1]-x[0])<=5*h:\n",
    "        h=(x[1]-x[0])/10\n",
    "    tiempos=arange(x[0],x[1]+h,h)\n",
    "    sol=zeros((len(tiempos),len(p_ini)))\n",
    "    sol[0,:]=p_ini\n",
    "    if args==0:\n",
    "        for i in xrange(len(tiempos)-1):\n",
    "            k1=ec(sol[i,:],tiempos[i])\n",
    "            k2=ec(sol[i,:]+0.5*h*k1,tiempos[i]+0.5*h)\n",
    "            k3=ec(sol[i,:]+0.5*h*k2,tiempos[i]+0.5*h)\n",
    "            k4=ec(sol[i,:]+h*k3,tiempos[i]+h)\n",
    "        #evaluando en el i-esimo\n",
    "            sol[i+1,:]=sol[i,:]+(h/6.)*(k1+2*k2+2*k3+k4) #cero no esta involucrado, esta en cuenta en p_ini\n",
    "    else:\n",
    "        for i in xrange(len(tiempos)-1):\n",
    "            k1=ec(sol[i,:],tiempos[i],args)\n",
    "            k2=ec(sol[i,:]+0.5*h*k1,tiempos[i]+0.5*h,args)\n",
    "            k3=ec(sol[i,:]+0.5*h*k2,tiempos[i]+0.5*h,args)\n",
    "            k4=ec(sol[i,:]+h*k3,tiempos[i]+h,args)\n",
    "            sol[i+1,:]=sol[i,:]+(h/6.)*(k1+2*k2+2*k3+k4)\n",
    "    return tiempos,sol"
   ]
  },
  {
   "cell_type": "code",
   "execution_count": null,
   "metadata": {
    "collapsed": true
   },
   "outputs": [],
   "source": [
    "def rotacion(theta):\n",
    "    theta = theta*pi/180.\n",
    "    return array([cos(theta),-sin(theta),0,0]),array([sin(theta),cos(theta),0,0]),array([0,0,cos(theta),-sin(theta)]),array([0,0,sin(theta),cos(theta)])"
   ]
  },
  {
   "cell_type": "code",
   "execution_count": null,
   "metadata": {
    "collapsed": true
   },
   "outputs": [],
   "source": [
    "def ec_mov(r_v,t,fric=0,g=9.8,m=1): #ecuaciones de movimiento\n",
    "    dx=r_v[2]  #velocidad en r_v=(x,y,vx,vy)=(0,1,2,3) r=(pos),v=(vel)\n",
    "    dy=r_v[3]\n",
    "    if fric==0:\n",
    "        dvx,dvy=0,-(g/m)\n",
    "        #print \"No use modelo de fricción\"\n",
    "    else:\n",
    "        dvx=-(fric([r_v[2],r_v[3]]))[0]\n",
    "        dvy=-(g/m)-(fric([r_v[2],r_v[3]]))[1]\n",
    "        #print \"Use modelo de fricción\"\n",
    "    return dot(rotacion(theta),array([dx,dy,dvx,dvy]))"
   ]
  },
  {
   "cell_type": "code",
   "execution_count": null,
   "metadata": {
    "collapsed": true
   },
   "outputs": [],
   "source": [
    "def pl_inc(x,alfa):\n",
    "    return -tan(alfa*pi/180)*x"
   ]
  },
  {
   "cell_type": "code",
   "execution_count": null,
   "metadata": {
    "collapsed": true
   },
   "outputs": [],
   "source": [
    "#Modelos de friccion\n",
    "def fric_v(v,gamma=0.1):\n",
    "    f_x=gamma*v[0]\n",
    "    f_y=gamma*v[1]\n",
    "    return array([f_x,f_y])\n",
    "\n",
    "def fric_v2(v,gamma=0.1):\n",
    "    norm_v=sqrt(v[0]**2+v[1]**2)\n",
    "    f_x=gamma*norm_v*v[0]\n",
    "    f_y=gamma*norm_v*v[1]\n",
    "    return array([f_x,f_y])\n",
    "    "
   ]
  },
  {
   "cell_type": "code",
   "execution_count": null,
   "metadata": {
    "collapsed": true
   },
   "outputs": [],
   "source": [
    "def rebote(r_v_i,mi_dt,fric=0): #r_v_i es trayectori[i,:]\n",
    "    dt_busqueda=mi_dt/2\n",
    "    y_izq=r_v_i #obtenido de la trayectoria inicial\n",
    "    t,sol=rk4(ec_mov,r_v_i,[0,dt_busqueda],fric) #cuatro puntos de la coordenada de la derecha\n",
    "    y_med=sol[-1,:]#resultado de haber integrado a la mitad, ultimo punto se queda\n",
    "    while abs(y_izq[1])>1e-5: #mayor a error\n",
    "        if y_izq[1]*y_med[1]<0:\n",
    "            reinicio=y_izq #integra desde el mismo punto\n",
    "        else:\n",
    "            reinicio=y_med \n",
    "        dt_busqueda=dt_busqueda/2 #reduce tiempo de integracion\n",
    "        t,sol=rk4(ec_mov,reinicio,[0,dt_busqueda],fric)\n",
    "        y_izq=reinicio\n",
    "        y_med=sol[-1,:]\n",
    "    y_izq=array([y_izq[0],y_izq[1],y_izq[2],-y_izq[3]])\n",
    "    return y_izq"
   ]
  },
  {
   "cell_type": "code",
   "execution_count": null,
   "metadata": {
    "collapsed": false
   },
   "outputs": [],
   "source": [
    "def trayectorias(c_i,theta,fric=0,N=50,h=0.1):\n",
    "    inicio=c_i #punto inicial para determinar raices\n",
    "    #N=50 # 500 puntos de la trayectoria\n",
    "    trayectoria=zeros((N,len(inicio)))\n",
    "    trayectoria[0,:]=array(inicio)\n",
    "    mi_dt= h #intervalo de tiempo donde se guardara los datos obtenidos, es decir memoria, se integra de 0 a dt\n",
    "    for i in range(N-1): #punto d einicio\n",
    "        t,sol_dt=rk4(ec_mov,trayectoria[i,:],[0,mi_dt],fric) # punto de integracion originalmente\n",
    "        if sol_dt[-1,:][1]<0: #[1] primera entrada\n",
    "            punto=rebote(trayectoria[i,:],mi_dt)\n",
    "            trayectoria[i+1,:]=punto\n",
    "        else:\n",
    "            trayectoria[i+1,:]=sol_dt[-1,:] #trayectoria[1,:]=array([1,2,3,4]) se llena la fila numero uno con datos dados, ultimo punto de la simulacion\n",
    "    for i in range(N):\n",
    "        trayectoria[i,:]=dot(rotacion(-theta),trayectoria[i,:])\n",
    "    return trayectoria"
   ]
  },
  {
   "cell_type": "code",
   "execution_count": null,
   "metadata": {
    "collapsed": false
   },
   "outputs": [],
   "source": [
    "theta=0\n",
    "modelos_fric=[0,fric_v,fric_v2]\n",
    "for i in xrange(len(modelos_fric)):\n",
    "    trayec=trayectorias([0,10,5,5],theta,modelos_fric[i],100)\n",
    "    plot(trayec[:,0],trayec[:,1])\n",
    "plot(trayec[:,0],pl_inc(trayec[:,0],theta),label='theta=0')\n",
    "legend()\n",
    "show()"
   ]
  },
  {
   "cell_type": "code",
   "execution_count": null,
   "metadata": {
    "collapsed": false
   },
   "outputs": [],
   "source": [
    "theta=15\n",
    "modelos_fric=[0,fric_v,fric_v2]\n",
    "for i in xrange(len(modelos_fric)):\n",
    "    trayec=trayectorias([2,10,0,0],theta,modelos_fric[2-i],50)\n",
    "    plot(trayec[:,0],trayec[:,1])\n",
    "plot(trayec[:,0],pl_inc(trayec[:,0],theta),label='theta=15')\n",
    "legend()\n",
    "show()"
   ]
  },
  {
   "cell_type": "code",
   "execution_count": null,
   "metadata": {
    "collapsed": false
   },
   "outputs": [],
   "source": [
    "theta=30\n",
    "modelos_fric=[0,fric_v,fric_v2]\n",
    "for i in xrange(len(modelos_fric)):\n",
    "    trayec=trayectorias([2,10,0,0],theta,modelos_fric[2-i],50)\n",
    "    plot(trayec[:,0],trayec[:,1])\n",
    "plot(trayec[:,0],pl_inc(trayec[:,0],theta),label='theta=30')\n",
    "legend()\n",
    "show()"
   ]
  },
  {
   "cell_type": "code",
   "execution_count": null,
   "metadata": {
    "collapsed": false
   },
   "outputs": [],
   "source": [
    "theta=45\n",
    "modelos_fric=[0,fric_v,fric_v2]\n",
    "for i in xrange(len(modelos_fric)):\n",
    "    trayec=trayectorias([2,10,0,0],theta,modelos_fric[2-i],50)\n",
    "    plot(trayec[:,0],trayec[:,1])\n",
    "plot(trayec[:,0],pl_inc(trayec[:,0],theta),label='45')\n",
    "legend()\n",
    "show()"
   ]
  },
  {
   "cell_type": "code",
   "execution_count": null,
   "metadata": {
    "collapsed": false
   },
   "outputs": [],
   "source": [
    "v0x,v0y=[-7,5]\n",
    "theta<(tan(v0y/v0x))**-1\n",
    "modelos_fric=[0,fric_v,fric_v2]\n",
    "for i in xrange(len(modelos_fric)):\n",
    "    trayec=trayectorias([0,10,v0x,v0y],theta,modelos_fric[2-i],50)\n",
    "    plot(trayec[:,0],trayec[:,1])\n",
    "plot(trayec[:,0],pl_inc(trayec[:,0],theta))\n",
    "show()"
   ]
  },
  {
   "cell_type": "code",
   "execution_count": null,
   "metadata": {
    "collapsed": true
   },
   "outputs": [],
   "source": []
  },
  {
   "cell_type": "code",
   "execution_count": null,
   "metadata": {
    "collapsed": true
   },
   "outputs": [],
   "source": []
  },
  {
   "cell_type": "code",
   "execution_count": null,
   "metadata": {
    "collapsed": true
   },
   "outputs": [],
   "source": []
  },
  {
   "cell_type": "code",
   "execution_count": null,
   "metadata": {
    "collapsed": true
   },
   "outputs": [],
   "source": []
  }
 ],
 "metadata": {
  "anaconda-cloud": {},
  "kernelspec": {
   "display_name": "Python [Root]",
   "language": "python",
   "name": "Python [Root]"
  },
  "language_info": {
   "codemirror_mode": {
    "name": "ipython",
    "version": 2
   },
   "file_extension": ".py",
   "mimetype": "text/x-python",
   "name": "python",
   "nbconvert_exporter": "python",
   "pygments_lexer": "ipython2",
   "version": "2.7.12"
  }
 },
 "nbformat": 4,
 "nbformat_minor": 0
}
